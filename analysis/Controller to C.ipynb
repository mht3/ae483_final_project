{
 "cells": [
  {
   "cell_type": "code",
   "execution_count": 176,
   "id": "29b4f2ae",
   "metadata": {},
   "outputs": [],
   "source": [
    "import numpy as np\n",
    "import sympy as sym\n",
    "import json\n",
    "import matplotlib.pyplot as plt\n",
    "from scipy import linalg\n",
    "from scipy.interpolate import interp1d\n",
    "from IPython.display import display, IFrame, HTML"
   ]
  },
  {
   "cell_type": "code",
   "execution_count": 177,
   "id": "ce555b41",
   "metadata": {},
   "outputs": [],
   "source": [
    "def lqr(A, B, Q, R):\n",
    "    P = linalg.solve_continuous_are(A, B, Q, R)\n",
    "    K = linalg.inv(R) @  B.T @ P\n",
    "    return K"
   ]
  },
  {
   "cell_type": "code",
   "execution_count": 178,
   "id": "d8f84c3d",
   "metadata": {},
   "outputs": [],
   "source": [
    "# FIXME (copy/paste definition of A, B, C, D)\n",
    "A = np.array([[0.0, 0.0, 0.0, 0.0, 0.0, 0.0, 1.0, 0.0, 0.0],\n",
    "              [0.0, 0.0, 0.0, 0.0, 0.0, 0.0, 0.0, 1.0, 0.0],\n",
    "              [0.0, 0.0, 0.0, 0.0, 0.0, 0.0, 0.0, 0.0, 1.0],\n",
    "              [0.0, 0.0, 0.0, 0.0, 0.0, 0.0, 0.0, 0.0, 0.0],\n",
    "              [0.0, 0.0, 0.0, 0.0, 0.0, 0.0, 0.0, 0.0, 0.0],\n",
    "              [0.0, 0.0, 0.0, 0.0, 0.0, 0.0, 0.0, 0.0, 0.0],\n",
    "              [0.0, 0.0, 0.0, 0.0, 9.81, 0.0, 0.0, 0.0, 0.0],\n",
    "              [0.0, 0.0, 0.0, 0.0, 0.0, -9.81, 0.0, 0.0, 0.0],\n",
    "              [0.0, 0.0, 0.0, 0.0, 0.0, 0.0, 0.0, 0.0, 0.0]])\n",
    "\n",
    "B = np.array([[0.0, 0.0, 0.0, 0.0],\n",
    "              [0.0, 0.0, 0.0, 0.0],\n",
    "              [0.0, 0.0, 0.0, 0.0],\n",
    "              [0.0, 0.0, 1.0, 0.0],\n",
    "              [0.0, 1.0, 0.0, 0.0],\n",
    "              [1.0, 0.0, 0.0, 0.0],\n",
    "              [0.0, 0.0, 0.0, 0.0],\n",
    "              [0.0, 0.0, 0.0, 0.0],\n",
    "              [0.0, 0.0, 0.0, 1.0]])\n",
    "\n",
    "C = np.array([[0.0, 0.0, 0.0, 0.0, 0.0, 0.0, 8.18511135901176, 0.0, 0.0],\n",
    "              [0.0, 0.0, 0.0, 0.0, 0.0, 0.0, 0.0, 8.18511135901176, 0.0],\n",
    "              [0.0, 0.0, 1.0, 0.0, 0.0, 0.0, 0.0, 0.0, 0.0]])\n",
    "\n",
    "D = np.array([[0.0, -4.09255567950588, 0.0, 0.0],\n",
    "              [4.09255567950588, 0.0, 0.0, 0.0],\n",
    "              [0.0, 0.0, 0.0, 0.0]])"
   ]
  },
  {
   "cell_type": "code",
   "execution_count": 179,
   "id": "70264862",
   "metadata": {},
   "outputs": [],
   "source": [
    "s_obs_index = [\n",
    "    2, # o_z\n",
    "    4, # theta\n",
    "    5, # phi\n",
    "    6, # v_x\n",
    "    7, # v_y\n",
    "    8, # v_z\n",
    "]"
   ]
  },
  {
   "cell_type": "code",
   "execution_count": 180,
   "id": "f80f7f4a",
   "metadata": {},
   "outputs": [],
   "source": [
    "A_obs = A[s_obs_index, :][:, s_obs_index]\n",
    "B_obs = B[s_obs_index, :]\n",
    "C_obs = C[:, s_obs_index]\n",
    "D_obs = D"
   ]
  },
  {
   "cell_type": "code",
   "execution_count": 181,
   "id": "747ae5cb",
   "metadata": {},
   "outputs": [],
   "source": [
    "# FIXME:\n",
    "#\n",
    "# (1) Change the size of each matrix to match the number of\n",
    "#     states and outputs for your observable subsystem\n",
    "#\n",
    "# (2) Change the value of each diagonal entry based on your\n",
    "#     results from Lab 7.\n",
    "\n",
    "# Q = np.diag([\n",
    "#     (1/(3.377)**2),             # n_x\n",
    "#     (1/(3.645)**2),             # n_y\n",
    "#     (1./0.002**2),             # r\n",
    "# ])\n",
    "\n",
    "Q = np.diag([\n",
    "    ((1/2)**2),             # n_x\n",
    "    ((1/2)**2),             # n_y\n",
    "    (1/0.002)**2,             # r\n",
    "])\n",
    "\n",
    "\n",
    "R = np.diag([\n",
    "    (1/0.039**2), # o_z\n",
    "    (1/0.033**2), # theta\n",
    "    (1/0.042**2), # phi\n",
    "    (1/0.314**2), # v_x\n",
    "    (1/0.239**2), # v_y\n",
    "    (1/0.253**2), # v_z\n",
    "])\n",
    "\n",
    "# R = np.diag([\n",
    "#     (1/0.041)**2, # o_z\n",
    "#     (1/0.075)**2, # theta\n",
    "#     (1/0.06)**2, # phi\n",
    "#     (1/0.287)**2, # v_x\n",
    "#     (1/0.296)**2, # v_y\n",
    "#     (1/0.236)**2, # v_z\n",
    "# ])\n",
    "\n",
    "# R = np.diag([\n",
    "#     (1/0.041)**2, # o_z\n",
    "#     (1/0.075)**2, # theta\n",
    "#     (1/0.06)**2, # phi\n",
    "#     (1/1.5)**2, # v_x\n",
    "#     (1/1.5)**2, # v_y\n",
    "#     (1/0.236)**2, # v_z\n",
    "# ])"
   ]
  },
  {
   "cell_type": "code",
   "execution_count": 182,
   "id": "c19fc723",
   "metadata": {},
   "outputs": [
    {
     "data": {
      "text/plain": [
       "array([[ 0.00000000e+00,  0.00000000e+00,  2.51644591e+01],\n",
       "       [ 1.65000000e-02,  0.00000000e+00,  0.00000000e+00],\n",
       "       [-0.00000000e+00, -2.10000000e-02, -0.00000000e+00],\n",
       "       [ 2.53377348e-01,  0.00000000e+00,  0.00000000e+00],\n",
       "       [ 0.00000000e+00,  2.54200687e-01,  0.00000000e+00],\n",
       "       [-0.00000000e+00,  0.00000000e+00,  1.26500000e+02]])"
      ]
     },
     "execution_count": 182,
     "metadata": {},
     "output_type": "execute_result"
    }
   ],
   "source": [
    "L_weight = lqr(A_obs.T, C_obs.T, linalg.inv(R), linalg.inv(Q)).T\n",
    "np.round(L_weight, 10)"
   ]
  },
  {
   "cell_type": "code",
   "execution_count": 183,
   "id": "fa3748db",
   "metadata": {},
   "outputs": [],
   "source": [
    "A_obs = sym.Matrix(A_obs)\n",
    "B_obs = sym.Matrix(B_obs)\n",
    "C_obs = sym.Matrix(C_obs)\n",
    "D_obs = sym.Matrix(D_obs)"
   ]
  },
  {
   "cell_type": "code",
   "execution_count": 184,
   "id": "795976ac",
   "metadata": {},
   "outputs": [],
   "source": [
    "L = sym.Matrix(np.round(L_weight, 10))"
   ]
  },
  {
   "cell_type": "code",
   "execution_count": 185,
   "id": "c87d9bd5",
   "metadata": {},
   "outputs": [],
   "source": [
    "#Define Constants\n",
    "g = 9.81\n",
    "k_flow = 4.09255568\n",
    "o_z_eq = 0.1 # <-- FIXME: change equilibrium height\n",
    "dt = 0.01"
   ]
  },
  {
   "cell_type": "code",
   "execution_count": 186,
   "id": "30139b96",
   "metadata": {},
   "outputs": [],
   "source": [
    "o_z, theta, phi, v_x, v_y, v_z = sym.symbols('o_z, theta, phi, v_x, v_y, v_z')\n",
    "w_x, w_y, w_z, a_z, g = sym.symbols('w_x, w_y, w_z, a_z, g')\n",
    "n_x, n_y, r = sym.symbols('n_x, n_y, r')\n",
    "\n",
    "s_hat = sym.Matrix([o_z, theta, phi, v_x, v_y, v_z])\n",
    "i_i = sym.Matrix([w_x, w_y, w_z, a_z - g])\n",
    "o = sym.Matrix([n_x, n_y, r])\n",
    "\n",
    "state_error = A_obs @ (s_hat) + B_obs @ (i_i) # Ax + Bu\n",
    "sensor_error = (C_obs @ (s_hat) + D_obs @ (i_i) - o) # Cx + Du - y\n",
    "s_hat_dot = state_error - L @ sensor_error # Ax + Bu - L(Cx + Du - y)"
   ]
  },
  {
   "cell_type": "code",
   "execution_count": 187,
   "id": "0ed30117",
   "metadata": {},
   "outputs": [
    {
     "data": {
      "text/latex": [
       "$\\displaystyle \\left[\\begin{matrix}- n_{x} + 8.18511135901176 v_{x} - 4.09255567950588 w_{y}\\\\- n_{y} + 8.18511135901176 v_{y} + 4.09255567950588 w_{x}\\\\1.0 o_{z} - r\\end{matrix}\\right]$"
      ],
      "text/plain": [
       "Matrix([\n",
       "[-n_x + 8.18511135901176*v_x - 4.09255567950588*w_y],\n",
       "[-n_y + 8.18511135901176*v_y + 4.09255567950588*w_x],\n",
       "[                                       1.0*o_z - r]])"
      ]
     },
     "execution_count": 187,
     "metadata": {},
     "output_type": "execute_result"
    }
   ],
   "source": [
    "sensor_error"
   ]
  },
  {
   "cell_type": "code",
   "execution_count": 188,
   "id": "e0536d00",
   "metadata": {},
   "outputs": [
    {
     "data": {
      "text/latex": [
       "$\\displaystyle \\left[\\begin{matrix}1.0 v_{z}\\\\1.0 w_{y}\\\\1.0 w_{x}\\\\9.81 \\theta\\\\- 9.81 \\phi\\\\1.0 a_{z} - 1.0 g\\end{matrix}\\right]$"
      ],
      "text/plain": [
       "Matrix([\n",
       "[        1.0*v_z],\n",
       "[        1.0*w_y],\n",
       "[        1.0*w_x],\n",
       "[     9.81*theta],\n",
       "[      -9.81*phi],\n",
       "[1.0*a_z - 1.0*g]])"
      ]
     },
     "execution_count": 188,
     "metadata": {},
     "output_type": "execute_result"
    }
   ],
   "source": [
    "state_error"
   ]
  },
  {
   "cell_type": "code",
   "execution_count": 189,
   "id": "e5b0739f",
   "metadata": {},
   "outputs": [
    {
     "data": {
      "text/latex": [
       "$\\displaystyle \\left[\\begin{matrix}- 25.1644590643 o_{z} + 25.1644590643 r + 1.0 v_{z}\\\\0.0165 n_{x} - 0.135054337423694 v_{x} + 1.06752716871185 w_{y}\\\\- 0.021 n_{y} + 0.171887338539247 v_{y} + 1.08594366926962 w_{x}\\\\0.2533773485 n_{x} + 9.81 \\theta - 2.07392181332363 v_{x} + 1.03696090666182 w_{y}\\\\0.2542006866 n_{y} - 9.81 \\phi - 2.08066092735825 v_{y} - 1.04033046367912 w_{x}\\\\1.0 a_{z} - 1.0 g - 126.5 o_{z} + 126.5 r\\end{matrix}\\right]$"
      ],
      "text/plain": [
       "Matrix([\n",
       "[                             -25.1644590643*o_z + 25.1644590643*r + 1.0*v_z],\n",
       "[                  0.0165*n_x - 0.135054337423694*v_x + 1.06752716871185*w_y],\n",
       "[                  -0.021*n_y + 0.171887338539247*v_y + 1.08594366926962*w_x],\n",
       "[0.2533773485*n_x + 9.81*theta - 2.07392181332363*v_x + 1.03696090666182*w_y],\n",
       "[  0.2542006866*n_y - 9.81*phi - 2.08066092735825*v_y - 1.04033046367912*w_x],\n",
       "[                                      1.0*a_z - 1.0*g - 126.5*o_z + 126.5*r]])"
      ]
     },
     "execution_count": 189,
     "metadata": {},
     "output_type": "execute_result"
    }
   ],
   "source": [
    "s_hat_dot"
   ]
  },
  {
   "cell_type": "code",
   "execution_count": 190,
   "id": "cd1e2486",
   "metadata": {},
   "outputs": [
    {
     "name": "stdout",
     "output_type": "stream",
     "text": [
      "-n_x + 8.18511135901176*v_x - 4.09255567950588*w_y\n",
      "\n",
      "-n_y + 8.18511135901176*v_y + 4.09255567950588*w_x\n",
      "\n",
      "1.0*o_z - r\n",
      "\n"
     ]
    }
   ],
   "source": [
    "for i in range(0, len(sensor_error)) :\n",
    "    print(sensor_error[i])\n",
    "    print()"
   ]
  },
  {
   "cell_type": "code",
   "execution_count": 191,
   "id": "5445b1e6",
   "metadata": {},
   "outputs": [],
   "source": [
    "variables = ['o_z', 'theta', 'phi', 'v_x', 'v_y', 'v_z']"
   ]
  },
  {
   "cell_type": "code",
   "execution_count": 192,
   "id": "7d20f5fb",
   "metadata": {},
   "outputs": [
    {
     "name": "stdout",
     "output_type": "stream",
     "text": [
      "o_z += dt*(-25.1644590643009f*o_z + 0.0f*theta + 0.0f*phi + 0.0f*n_x + 0.0f*n_y + 25.164459101855755f*r + 0.0f*g + 0.0f*a_z + 0.0f*v_x + 0.0f*v_y + 1.0f*v_z + 0.0f*w_x + 0.0f*w_y + 0.0f*w_z);\n",
      "\n",
      "theta += dt*(0.0f*o_z + 0.0f*theta + 0.0f*phi + 0.016499999999950887f*n_x + 0.0f*n_y + 0.0f*r + 0.0f*g + 0.0f*a_z + -0.13505433741988782f*v_x + 0.0f*v_y + 0.0f*v_z + 0.0f*w_x + 1.0675271687100576f*w_y + 0.0f*w_z);\n",
      "\n",
      "phi += dt*(0.0f*o_z + 0.0f*theta + 0.0f*phi + 0.0f*n_x + -0.020999999999958163f*n_y + 0.0f*r + 0.0f*g + 0.0f*a_z + 0.0f*v_x + 0.17188733854004568f*v_y + 0.0f*v_z + 1.0859436692699092f*w_x + 0.0f*w_y + 0.0f*w_z);\n",
      "\n",
      "v_x += dt*(0.0f*o_z + 9.80999999999949f*theta + 0.0f*phi + 0.25337734850018023f*n_x + 0.0f*n_y + 0.0f*r + 0.0f*g + 0.0f*a_z + -2.0739218133198847f*v_x + 0.0f*v_y + 0.0f*v_z + 0.0f*w_x + 1.0369609066599423f*w_y + 0.0f*w_z);\n",
      "\n",
      "v_y += dt*(0.0f*o_z + 0.0f*theta + -10.0f*phi + 0.0f*n_x + 0.25420068660014294f*n_y + 0.0f*r + 0.0f*g + 0.0f*a_z + 0.0f*v_x + -2.080660927359986f*v_y + 0.0f*v_z + -1.040330463679993f*w_x + 0.0f*w_y + 0.0f*w_z);\n",
      "\n",
      "v_z += dt*(-126.5f*o_z + 0.0f*theta + 0.0f*phi + 0.0f*n_x + 0.0f*n_y + 126.5f*r + -1.0f*g + 1.0f*a_z + 0.0f*v_x + 0.0f*v_y + 0.0f*v_z + 0.0f*w_x + 0.0f*w_y + 0.0f*w_z);\n",
      "\n"
     ]
    }
   ],
   "source": [
    "for i in range(0, len(s_hat_dot)) :\n",
    "    o_z_co = float(round(s_hat_dot[i].coeff(o_z), 10))\n",
    "    theta_co = float(round(s_hat_dot[i].coeff(theta), 11))\n",
    "    phi_co = float(round(round(s_hat_dot[i].coeff(phi), 11)))\n",
    "    n_x_co = float(round(s_hat_dot[i].coeff(n_x), 11))\n",
    "    n_y_co = float(round(s_hat_dot[i].coeff(n_y), 11))\n",
    "    r_co = float(round(s_hat_dot[i].coeff(r), 7))\n",
    "    g_co = float(round(s_hat_dot[i].coeff(g)))\n",
    "    a_z_co = float(round(s_hat_dot[i].coeff(a_z)))\n",
    "    v_x_co = float(round(s_hat_dot[i].coeff(v_x), 11))\n",
    "    v_y_co = float(round(s_hat_dot[i].coeff(v_y), 11))\n",
    "    v_z_co = float(round(s_hat_dot[i].coeff(v_z)))\n",
    "    w_x_co = float(round(s_hat_dot[i].coeff(w_x), 11))\n",
    "    w_y_co = float(round(s_hat_dot[i].coeff(w_y), 11))\n",
    "    w_z_co = float(round(s_hat_dot[i].coeff(w_z)))\n",
    "    print(variables[i] + ' += ' + 'dt*(' + str(o_z_co) + 'f' + '*o_z + ' +\n",
    "          str(theta_co) + 'f' + '*theta + ' +\n",
    "          str(phi_co) + 'f' + '*phi + ' +\n",
    "          str(n_x_co) + 'f' + '*n_x + ' +\n",
    "          str(n_y_co) + 'f' + '*n_y + ' +\n",
    "          str(r_co) + 'f' + '*r + ' +\n",
    "          str(g_co) + 'f' + '*g + ' +\n",
    "          str(a_z_co) + 'f' + '*a_z + ' +\n",
    "          str(v_x_co) + 'f' + '*v_x + ' +\n",
    "          str(v_y_co) + 'f' + '*v_y + ' +\n",
    "          str(v_z_co) + 'f' + '*v_z + ' +\n",
    "         str(w_x_co) + 'f' + '*w_x + ' +\n",
    "         str(w_y_co) + 'f' + '*w_y + ' +\n",
    "         str(w_z_co) + 'f' + '*w_z' + ');')\n",
    "    print()"
   ]
  },
  {
   "cell_type": "code",
   "execution_count": null,
   "id": "1fbf09fb",
   "metadata": {},
   "outputs": [],
   "source": []
  },
  {
   "cell_type": "code",
   "execution_count": null,
   "id": "d3edf2bd",
   "metadata": {},
   "outputs": [],
   "source": []
  }
 ],
 "metadata": {
  "kernelspec": {
   "display_name": "Python 3 (ipykernel)",
   "language": "python",
   "name": "python3"
  },
  "language_info": {
   "codemirror_mode": {
    "name": "ipython",
    "version": 3
   },
   "file_extension": ".py",
   "mimetype": "text/x-python",
   "name": "python",
   "nbconvert_exporter": "python",
   "pygments_lexer": "ipython3",
   "version": "3.10.6"
  }
 },
 "nbformat": 4,
 "nbformat_minor": 5
}
